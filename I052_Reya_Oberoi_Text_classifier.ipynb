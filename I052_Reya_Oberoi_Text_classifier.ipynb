{
  "nbformat": 4,
  "nbformat_minor": 0,
  "metadata": {
    "colab": {
      "provenance": []
    },
    "kernelspec": {
      "name": "python3",
      "display_name": "Python 3"
    },
    "language_info": {
      "name": "python"
    }
  },
  "cells": [
    {
      "cell_type": "markdown",
      "source": [
        "I052_Reya Oberoi"
      ],
      "metadata": {
        "id": "G1r06giuLOTO"
      }
    },
    {
      "cell_type": "code",
      "source": [
        "categories = {\n",
        "    \"finance\": [\n",
        "        \"stock\", \"market\", \"investment\", \"bank\", \"finance\", \"economy\", \"money\", \"loan\", \"cash\",\n",
        "        \"budget\", \"credit\", \"debt\", \"interest\", \"profit\", \"shares\",  \"trading\",\n",
        "        \"inflation\", \"revenue\", \"tax\", \"fund\", \"asset\", \"liability\", \"capital\"\n",
        "    ],\n",
        "    \"healthcare\": [\n",
        "        \"patient\", \"hospital\", \"doctor\", \"medicine\", \"health\", \"disease\", \"treatment\", \"surgery\",\n",
        "        \"clinic\", \"nurse\", \"diagnosis\", \"therapy\", \"vaccine\", \"infection\", \"symptom\", \"pharmacy\",\n",
        "        \"medical\", \"illness\", \"blood\", \"emergency\", \"care\", \"virus\", \"healthcare\"\n",
        "    ],\n",
        "    \"sports\": [\n",
        "        \"team\", \"match\", \"goal\", \"player\", \"tournament\", \"win\", \"score\", \"coach\", \"league\",\n",
        "        \"championship\", \"athlete\", \"competition\", \"referee\", \"stadium\",\n",
        "        \"race\", \"defense\", \"penalty\", \"kick\", \"run\", \"pitch\", \"scoreboard\", \"captain\"\n",
        "    ],\n",
        "    \"politics\": [\n",
        "        \"government\", \"election\", \"minister\", \"policy\", \"vote\", \"debate\", \"law\",\n",
        "        \"parliament\", \"campaign\", \"president\", \"democracy\", \"republic\", \"party\",\n",
        "        \"diplomacy\", \"constitution\", \"political\", \"candidate\", \"bill\"\n",
        "    ],\n",
        "    \"technology\": [\n",
        "        \"AI\", \"software\", \"hardware\", \"tech\", \"internet\", \"data\", \"robot\", \"machine\", \"computer\",\n",
        "        \"programming\", \"algorithm\", \"database\", \"cloud\", \"network\", \"cybersecurity\", \"digital\",\n",
        "        \"automation\", \"coding\", \"application\", \"developer\", \"engineer\", \"blockchain\"\n",
        "    ]\n",
        "}"
      ],
      "metadata": {
        "id": "Xcg1YHR8Bp1_"
      },
      "execution_count": null,
      "outputs": []
    },
    {
      "cell_type": "code",
      "source": [
        "category_keywords = {}\n",
        "\n",
        "for cat, words in categories.items():\n",
        "    lowered_words = set()\n",
        "    for word in words:\n",
        "        lowered_words.add(word.lower())\n",
        "    category_keywords[cat] = lowered_words"
      ],
      "metadata": {
        "id": "R9blMog8CGzm"
      },
      "execution_count": null,
      "outputs": []
    },
    {
      "cell_type": "code",
      "execution_count": null,
      "metadata": {
        "id": "5u09YdD697aG"
      },
      "outputs": [],
      "source": [
        "def classify_with_frequency_basic(text):\n",
        "    text = text.lower()\n",
        "    words = []\n",
        "    for word in text.split():\n",
        "        word = word.strip(\".,!?;:\\\"'()[]{}<>\")\n",
        "        if word:\n",
        "            words.append(word)\n",
        "\n",
        "\n",
        "    word_count = {}\n",
        "    for w in words:\n",
        "        if w in word_count:\n",
        "            word_count[w] += 1\n",
        "        else:\n",
        "            word_count[w] = 1\n",
        "\n",
        "\n",
        "    scores = {category: 0 for category in categories}\n",
        "    for word, count in word_count.items():\n",
        "        for category, keywords in category_keywords.items():\n",
        "            if word in keywords:\n",
        "                scores[category] += count\n",
        "\n",
        "    best_category = max(scores, key=scores.get)\n",
        "    if scores[best_category] == 0:\n",
        "        return \"unknown\"\n",
        "    return best_category"
      ]
    },
    {
      "cell_type": "code",
      "source": [
        "docs = [\n",
        "    \"\"\"\n",
        "    Paras Defence shares plummeted 10% following a reported 25% drop in consolidated net profit for Q1, landing at Rs 15 crore.\n",
        "    Paras Defence and Space Technologies shares experienced a 10% decline. This drop follows a reported 25% decrease in the\n",
        "    company's consolidated net profit for the first quarter.\n",
        "    \"\"\",\n",
        "\n",
        "    \"\"\"\n",
        "    Political parties are organizations that bring together individuals with shared political beliefs to compete for power and influence\n",
        "    in government. They play a crucial role in democratic systems by organizing elections, shaping public opinion, and holding\n",
        "     elected officials accountable.\n",
        "    \"\"\",\n",
        "\n",
        "    \"\"\"\n",
        "    Ravindra Jadeja and Washington Sundar did not accept England captain Ben Stokes' offer for a draw with 15 overs\n",
        "    left on Day 5 of the 4th Test.\n",
        "    \"\"\",\n",
        "\n",
        "    \"\"\"\n",
        "    AI in healthcare refers to the application of Artificial Intelligence (AI) technologies to improve various aspects of healthcare delivery,\n",
        "    from diagnosis and treatment to administrative tasks and drug discovery. It involves using machine learning (ML) algorithms and other cognitive\n",
        "    technologies to analyze vast amounts of patient data, identify patterns, and make predictions to enhance decision-making and improve patient outcomes.\n",
        "    \"\"\"\n",
        "]\n",
        "\n",
        "for doc in docs:\n",
        "    category = classify_with_frequency_basic(doc)\n",
        "    print(f\"{doc}\\n → {category}\\n\")"
      ],
      "metadata": {
        "colab": {
          "base_uri": "https://localhost:8080/"
        },
        "id": "xeYZaIfNCg4H",
        "outputId": "e373959e-1b1f-4978-ff94-4ffeb6a5b735"
      },
      "execution_count": null,
      "outputs": [
        {
          "output_type": "stream",
          "name": "stdout",
          "text": [
            "\n",
            "    Paras Defence shares plummeted 10% following a reported 25% drop in consolidated net profit for Q1, landing at Rs 15 crore.\n",
            "    Paras Defence and Space Technologies shares experienced a 10% decline. This drop follows a reported 25% decrease in the\n",
            "    company's consolidated net profit for the first quarter.\n",
            "    \n",
            " → finance\n",
            "\n",
            "\n",
            "    Political parties are organizations that bring together individuals with shared political beliefs to compete for power and influence\n",
            "    in government. They play a crucial role in democratic systems by organizing elections, shaping public opinion, and holding\n",
            "     elected officials accountable.\n",
            "    \n",
            " → politics\n",
            "\n",
            "\n",
            "    Ravindra Jadeja and Washington Sundar did not accept England captain Ben Stokes' offer for a draw with 15 overs\n",
            "    left on Day 5 of the 4th Test.\n",
            "    \n",
            " → sports\n",
            "\n",
            "\n",
            "    AI in healthcare refers to the application of Artificial Intelligence (AI) technologies to improve various aspects of healthcare delivery,\n",
            "    from diagnosis and treatment to administrative tasks and drug discovery. It involves using machine learning (ML) algorithms and other cognitive\n",
            "    technologies to analyze vast amounts of patient data, identify patterns, and make predictions to enhance decision-making and improve patient outcomes.\n",
            "    \n",
            " → healthcare\n",
            "\n"
          ]
        }
      ]
    },
    {
      "cell_type": "code",
      "source": [
        "!pip install gradio --quiet"
      ],
      "metadata": {
        "id": "1pnj6OnOKYYV"
      },
      "execution_count": 21,
      "outputs": []
    },
    {
      "cell_type": "code",
      "source": [
        "import gradio as gr\n",
        "\n",
        "iface = gr.Interface(\n",
        "    fn=classify_with_frequency_basic,\n",
        "    inputs=gr.Textbox(lines=10, placeholder=\"Enter paragraph to classify here...\"),\n",
        "    outputs=\"text\",\n",
        "    title=\"Simple Text Classifier\",\n",
        "    description=\"Enter a paragraph and get the predicted category (finance, healthcare, sports, politics, technology, unknown).\"\n",
        ")\n",
        "\n",
        "iface.launch()"
      ],
      "metadata": {
        "colab": {
          "base_uri": "https://localhost:8080/",
          "height": 626
        },
        "id": "FejckSpJKqYd",
        "outputId": "892dd521-9b43-4f41-af41-15be960298b3"
      },
      "execution_count": 22,
      "outputs": [
        {
          "output_type": "stream",
          "name": "stdout",
          "text": [
            "It looks like you are running Gradio on a hosted Jupyter notebook, which requires `share=True`. Automatically setting `share=True` (you can turn this off by setting `share=False` in `launch()` explicitly).\n",
            "\n",
            "Colab notebook detected. To show errors in colab notebook, set debug=True in launch()\n",
            "* Running on public URL: https://c4e72203d2620e3d86.gradio.live\n",
            "\n",
            "This share link expires in 1 week. For free permanent hosting and GPU upgrades, run `gradio deploy` from the terminal in the working directory to deploy to Hugging Face Spaces (https://huggingface.co/spaces)\n"
          ]
        },
        {
          "output_type": "display_data",
          "data": {
            "text/plain": [
              "<IPython.core.display.HTML object>"
            ],
            "text/html": [
              "<div><iframe src=\"https://c4e72203d2620e3d86.gradio.live\" width=\"100%\" height=\"500\" allow=\"autoplay; camera; microphone; clipboard-read; clipboard-write;\" frameborder=\"0\" allowfullscreen></iframe></div>"
            ]
          },
          "metadata": {}
        },
        {
          "output_type": "execute_result",
          "data": {
            "text/plain": []
          },
          "metadata": {},
          "execution_count": 22
        }
      ]
    }
  ]
}